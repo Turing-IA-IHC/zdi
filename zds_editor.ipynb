{
  "cells": [
    {
      "cell_type": "markdown",
      "metadata": {
        "id": "9iekdMz02oSr"
      },
      "source": [
        "# Libro para procesar el audio del podcast | Book for processing podcast audio\n",
        "\n",
        "Este libro permite editar el audio de un podcast y partirlo en sus silencios, adicionar segementos, subir y bajar volumen, entre otros.\n",
        "\n",
        "\n",
        "This book allows you to edit the audio of a podcast and split it into its silences, add segments, increase and decrease volume, among others."
      ]
    },
    {
      "cell_type": "code",
      "execution_count": null,
      "metadata": {
        "id": "Yyy-wKI62oSx"
      },
      "outputs": [],
      "source": [
        "# Parámetros iniciales\n",
        "episode = \"T0E0\"\n",
        "\n",
        "file_path = f\"inputs/{episode}/{episode}.mp3\"\n",
        "context_path = f\"inputs/{episode}/{episode}-Context.mp3\"\n",
        "presentation_path = f\"inputs/{episode}/{episode}-Presentation.mp3\"\n",
        "close_path = f\"inputs/{episode}/{episode}-Close.mp3\"\n",
        "output_path = f\"outputs/{episode}.mp3\"\n",
        "\n",
        "episode_folder = \"00-Piloto\"\n",
        "assets_folder = 'assets'\n",
        "base = '.'"
      ]
    },
    {
      "cell_type": "markdown",
      "metadata": {
        "id": "ZxEEXyeQCLL2"
      },
      "source": [
        "## Validación de variables"
      ]
    },
    {
      "cell_type": "code",
      "execution_count": null,
      "metadata": {
        "colab": {
          "base_uri": "https://localhost:8080/"
        },
        "id": "-_jHQBVD3O6q",
        "outputId": "ff778b49-4ebc-4e30-fb6b-c20df4ee4306"
      },
      "outputs": [],
      "source": [
        "# Checa si el libro está corriendo en Google Colab\n",
        "import os\n",
        "\n",
        "def is_running_in_colab():\n",
        "  \"\"\"Checks if the code is running in Google Colab.\"\"\"\n",
        "  try:\n",
        "    from google.colab import drive\n",
        "    return True\n",
        "  except ImportError:\n",
        "    return False\n",
        "\n",
        "if is_running_in_colab():\n",
        "  print(\"This notebook is running in Google Colab.\")\n",
        "\n",
        "  # Activar unidad Drive\n",
        "  from google.colab import drive\n",
        "  drive.mount('/content/drive')\n",
        "  base = f\"/content/drive/MyDrive/Podcast/{episode_folder}\"\n",
        "  file_path = f\"{base}/{file_path}\"\n",
        "  context_path = f\"{base}/{context_path}\"\n",
        "  presentation_path = f\"{base}/{presentation_path}\"\n",
        "  close_path = f\"{base}/{close_path}\"\n",
        "  assets_folder = f\"/content/drive/MyDrive/Editor/{assets_folder}\"\n",
        "  output_path = f\"{base}/{output_path}\"\n",
        "\n",
        "  import sys\n",
        "  # Add the directory containing your module to the Python path\n",
        "  sys.path.append('/content/drive/MyDrive/Editor')"
      ]
    },
    {
      "cell_type": "code",
      "execution_count": null,
      "metadata": {
        "id": "JB_-px602oSz"
      },
      "outputs": [],
      "source": [
        "# Verificar que los archivos existan antes de continuar\n",
        "import os\n",
        "if not os.path.exists(file_path):\n",
        "  raise FileNotFoundError(f\"File not found: {file_path}\")\n",
        "if not os.path.exists(context_path):\n",
        "  raise FileNotFoundError(f\"File not found: {context_path}\")\n",
        "if not os.path.exists(presentation_path):\n",
        "  raise FileNotFoundError(f\"File not found: {presentation_path}\")\n",
        "if not os.path.exists(close_path):\n",
        "  raise FileNotFoundError(f\"File not found: {close_path}\")\n",
        "if not os.path.exists(assets_folder):\n",
        "  raise FileNotFoundError(f\"File not found: {assets_folder}\")"
      ]
    },
    {
      "cell_type": "code",
      "execution_count": null,
      "metadata": {
        "id": "fkMvy2aiCWNU"
      },
      "outputs": [],
      "source": [
        "# Si no existe la carpeta de output_path la crea\n",
        "import os\n",
        "# Create the output directory if it doesn't exist\n",
        "os.makedirs(os.path.dirname(output_path), exist_ok=True)"
      ]
    },
    {
      "cell_type": "markdown",
      "metadata": {
        "id": "iGdwwLr92oS0"
      },
      "source": [
        "## Prepración del libro"
      ]
    },
    {
      "cell_type": "code",
      "execution_count": null,
      "metadata": {
        "colab": {
          "base_uri": "https://localhost:8080/"
        },
        "id": "KsDo4BgI2oS1",
        "outputId": "ab9ef3ec-b476-481f-cbfb-90d5d9ee6621"
      },
      "outputs": [],
      "source": [
        "! pip install pydub scipy\n",
        "import zds_utils as zds\n",
        "from pydub import AudioSegment, silence"
      ]
    },
    {
      "cell_type": "code",
      "execution_count": null,
      "metadata": {
        "id": "5_voX9p32oS1"
      },
      "outputs": [],
      "source": [
        "# Tracks precargados\n",
        "INTRO_ZDS = AudioSegment.from_file(f\"{assets_folder}/Intro-ZDS.mp3\")\n",
        "ENDING = AudioSegment.from_file(f\"{assets_folder}/Ending.mp3\")\n",
        "INTENSE = AudioSegment.from_file(f\"{assets_folder}/Intense.mp3\")\n",
        "SHORT_INTENSE = AudioSegment.from_file(f\"{assets_folder}/Short-Intense.mp3\")\n",
        "PIANO = AudioSegment.from_file(f\"{assets_folder}/Piano.mp3\")\n",
        "FUTURE = AudioSegment.from_file(f\"{assets_folder}/Future.mp3\")"
      ]
    },
    {
      "cell_type": "code",
      "execution_count": null,
      "metadata": {
        "id": "C9dTnDXy2oS2"
      },
      "outputs": [],
      "source": [
        "# Variables de configuración\n",
        "silence_threshold = -40   # Umbral de silencio en dBFS\n",
        "min_silence_length = 3000  # Longitud mínima de silencio en ms"
      ]
    },
    {
      "cell_type": "markdown",
      "metadata": {
        "id": "uUrI_lWu2oS3"
      },
      "source": [
        "## Preparación del audio"
      ]
    },
    {
      "cell_type": "code",
      "execution_count": null,
      "metadata": {
        "colab": {
          "base_uri": "https://localhost:8080/"
        },
        "id": "UdGjIXC_2oS4",
        "outputId": "83550636-ac76-40f9-9c59-ed09c124c5a7"
      },
      "outputs": [],
      "source": [
        "# Carga los segmentos de audio y de silencios\n",
        "chunks = zds.chunks_load(f\"{base}/inputs/{episode}/chunks\")\n",
        "silences = zds.silences_load(f\"{base}/inputs/{episode}/silences.txt\")\n",
        "audio = []\n",
        "\n",
        "if len(chunks) == 0 or len(silences) == 0:\n",
        "  print(\"No se encontraron segmentos de audio o silencios guardados, se procederá a generarlos del audio original\")\n",
        "  # Carga del archivo de audio\n",
        "  audio = AudioSegment.from_file(file_path)\n",
        "\n",
        "  if len(chunks) == 0:\n",
        "    # Divide el audio en fragmentos de audio en base al silencio detectado\n",
        "    print(\"Dividiendo el audio en fragmentos de audio...\")\n",
        "    chunks = silence.split_on_silence(audio, min_silence_len=min_silence_length, silence_thresh=silence_threshold)\n",
        "    print(f\"Se han detectado {len(chunks)} fragmentos de audio. Se procederá a guardarlos.\")\n",
        "    zds.chunks_save(chunks, f\"{base}/inputs/{episode}/chunks\")\n",
        "    print(f\"Se han guardado los fragmentos de audio en {base}/inputs/{episode}/chunks\")\n",
        "\n",
        "  if len(silences) == 0:\n",
        "    # Extraer los fragmentos de silencio que superen una duración mínima\n",
        "    print(\"Extrayendo los fragmentos de silencio...\")\n",
        "    silences = silence.detect_silence(audio, min_silence_len=min_silence_length, silence_thresh=silence_threshold)\n",
        "    print(f\"Se han detectado {len(silences)} fragmentos de silencio. Se procederá a guardarlos.\")\n",
        "    zds.silences_save(silences, f\"{base}/inputs/{episode}/silences.txt\")\n",
        "    print(f\"Se han guardado los fragmentos de silencio en {base}/inputs/{episode}/silences.txt\")\n",
        "\n",
        "print(f\"Se han cargado {len(chunks)} fragmentos de audio y {len(silences)} fragmentos de silencio\")"
      ]
    },
    {
      "cell_type": "markdown",
      "metadata": {
        "id": "Y9_YGmtl2oS6"
      },
      "source": [
        "## Procesamiento"
      ]
    },
    {
      "cell_type": "code",
      "execution_count": null,
      "metadata": {
        "colab": {
          "base_uri": "https://localhost:8080/"
        },
        "id": "Wr130VFI2oS6",
        "outputId": "bb41ec0a-1001-4cc7-f912-5358dd830289"
      },
      "outputs": [],
      "source": [
        "# Estadísticas del audio\n",
        "print(f\"Tiempo total del audio:     {zds.ms_to_time(len(audio))}\")\n",
        "print(f\"Cantidad de chunks:         {len(chunks)}\")\n",
        "print(f\"Duración de los Chunks:     {zds.ms_to_time(sum([len(chunk) for chunk in chunks]))}\")\n",
        "#print(f\"Duración de cada chunk:    {[zds.ms_to_time(len(chunk)) for chunk in chunks]}\")\n",
        "print(f\"Cantidad de silencios:      {len(silences)}\")\n",
        "print(f\"Duración de los silencios:  {zds.ms_to_time(sum([end - start for start, end in silences]))}\")\n",
        "#print(f\"Duración de cada silencio: {[zds.ms_to_time(end - start) for start, end in silences]}\")"
      ]
    },
    {
      "cell_type": "code",
      "execution_count": null,
      "metadata": {
        "colab": {
          "base_uri": "https://localhost:8080/"
        },
        "id": "Bu2WLQE02oS7",
        "outputId": "3bd14dbc-d3e6-4809-a4f9-33baa03383d8"
      },
      "outputs": [],
      "source": [
        "# Tiempos del audio intercalando chuks y silencios\n",
        "chunks_durations = [len(chunk) for chunk in chunks]\n",
        "silence_durations = [(start, end, end - start) for start, end in silences]\n",
        "for chunk, silence in zip(chunks_durations, silence_durations):\n",
        "  print(f\"Silence: {zds.ms_to_time(silence[0],True)}-{zds.ms_to_time(silence[1],True)}->{zds.ms_to_time(silence[2],True)}\")\n",
        "  print(f\"Chunk:   {zds.ms_to_time(silence[1],True)}-{zds.ms_to_time(silence[1]+chunk,True)}->{zds.ms_to_time(chunk,True)}\")"
      ]
    },
    {
      "cell_type": "code",
      "execution_count": null,
      "metadata": {
        "id": "Z7QDrBmH2oS9"
      },
      "outputs": [],
      "source": [
        "# Inserta traccks en algunas posiciones de la lista de chunks\n",
        "chunks_final = chunks.copy()\n",
        "special_tracks = {\n",
        "  0: SHORT_INTENSE,\n",
        "  4: INTENSE,\n",
        "  13: PIANO\n",
        "}\n",
        "# Agregar silencio en los lugares donde NO se insertan los tracks\n",
        "silence = AudioSegment.silent(duration=1000)\n",
        "inserted = 0\n",
        "for i in range(len(chunks_final)):\n",
        "  if i in special_tracks:\n",
        "    chunks_final.insert(i + inserted, special_tracks[i])\n",
        "  else:\n",
        "    chunks_final.insert(i + inserted, silence)\n",
        "  inserted += 1\n",
        "\n",
        "chunks_final.insert(-1, FUTURE)"
      ]
    },
    {
      "cell_type": "code",
      "execution_count": null,
      "metadata": {
        "id": "k-fwPOuE2oS-"
      },
      "outputs": [],
      "source": [
        "# Une los fragmentos para la estructura final del audio\n",
        "context = AudioSegment.from_file(context_path)\n",
        "context = context.fade_in(1000).fade_out(2000)\n",
        "# Otros audios auxiliares\n",
        "presentation = AudioSegment.from_file(presentation_path)\n",
        "close = AudioSegment.from_file(close_path)\n",
        "\n",
        "# Compila el audio final\n",
        "compiled_audio = context + INTRO_ZDS + presentation + sum(chunks_final) + close + ENDING\n",
        "#compiled_audio = context + INTRO_ZDS + sum(chunks_final) + ENDING\n",
        "print(f\"Duración del audio compilado: {zds.ms_to_time(len(compiled_audio))}\")"
      ]
    },
    {
      "cell_type": "code",
      "execution_count": null,
      "metadata": {
        "id": "-3Dyk3iQ2oS-",
        "outputId": "e6fe0a92-56bd-4425-c6c5-8534b5b847f9"
      },
      "outputs": [],
      "source": [
        "# Guardar el archivo de audio Final\n",
        "zds.audio_save(compiled_audio, f\"outputs/{episode}.mp3\", verbose=True)\n",
        "#zds.audio_save(chunks_final[:30], f\"outputs/{episode}.mp3\", verbose=True)\n",
        "#videos para yorsh sobre educación e ia"
      ]
    },
    {
      "cell_type": "code",
      "execution_count": null,
      "metadata": {
        "colab": {
          "base_uri": "https://localhost:8080/",
          "height": 35
        },
        "id": "T-mNtbULB0O1",
        "outputId": "41a7dc77-0775-41ed-baca-4435ab299385"
      },
      "outputs": [],
      "source": [
        "output_path"
      ]
    }
  ],
  "metadata": {
    "colab": {
      "collapsed_sections": [
        "iGdwwLr92oS0"
      ],
      "provenance": []
    },
    "kernelspec": {
      "display_name": "hugging",
      "language": "python",
      "name": "python3"
    },
    "language_info": {
      "codemirror_mode": {
        "name": "ipython",
        "version": 3
      },
      "file_extension": ".py",
      "mimetype": "text/x-python",
      "name": "python",
      "nbconvert_exporter": "python",
      "pygments_lexer": "ipython3",
      "version": "3.10.15"
    }
  },
  "nbformat": 4,
  "nbformat_minor": 0
}
