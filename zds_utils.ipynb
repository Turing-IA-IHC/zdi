{
  "cells": [
    {
      "cell_type": "markdown",
      "metadata": {
        "id": "6eT5VNpp2pY0"
      },
      "source": [
        "# Ejemplo de funciones utilitarias | Example of utils functions\n",
        "\n",
        "Este libro demuestra el uso de las funciones utilitarias\n",
        "\n",
        "This book demonstrates the use of utility functions."
      ]
    },
    {
      "cell_type": "code",
      "execution_count": null,
      "metadata": {
        "id": "U1lZGE98DG7v"
      },
      "outputs": [],
      "source": [
        "episode_folder = \"00-Piloto\"\n",
        "assets_folder = 'assets'\n",
        "base = '.'"
      ]
    },
    {
      "cell_type": "markdown",
      "metadata": {
        "id": "23SOtiU0CEdP"
      },
      "source": [
        "## Preparación del libro"
      ]
    },
    {
      "cell_type": "code",
      "execution_count": null,
      "metadata": {
        "colab": {
          "base_uri": "https://localhost:8080/"
        },
        "id": "ZZq0CYCVBtua",
        "outputId": "e46c466a-346b-4be9-debf-e95dd2400a30"
      },
      "outputs": [],
      "source": [
        "# Checa si el libro está corriendo en Google Colab\n",
        "import os\n",
        "\n",
        "def is_running_in_colab():\n",
        "  \"\"\"Checks if the code is running in Google Colab.\"\"\"\n",
        "  try:\n",
        "    from google.colab import drive\n",
        "    return True\n",
        "  except ImportError:\n",
        "    return False\n",
        "\n",
        "if is_running_in_colab():\n",
        "  print(\"This notebook is running in Google Colab.\")\n",
        "\n",
        "  # Activar unidad Drive\n",
        "  from google.colab import drive\n",
        "  drive.mount('/content/drive')\n",
        "\n",
        "  base = f\"/content/drive/MyDrive/Podcast/{episode_folder}\"\n",
        "  assets_folder = f\"/content/drive/MyDrive/Editor/{assets_folder}\"\n",
        "\n",
        "  import sys\n",
        "  # Add the directory containing your module to the Python path\n",
        "  sys.path.append('/content/drive/MyDrive/Editor')"
      ]
    },
    {
      "cell_type": "code",
      "execution_count": null,
      "metadata": {
        "colab": {
          "base_uri": "https://localhost:8080/"
        },
        "id": "3XESCljw2pY7",
        "outputId": "d0f2e4fe-4ad5-4b52-d3c6-2d75b71c9e46"
      },
      "outputs": [],
      "source": [
        "! pip install pydub scipy\n",
        "import zds_utils as zds\n",
        "from pydub import AudioSegment, silence"
      ]
    },
    {
      "cell_type": "markdown",
      "metadata": {
        "id": "u1nN2e-w2pY9"
      },
      "source": [
        "## Ejemplos de invocación"
      ]
    },
    {
      "cell_type": "code",
      "execution_count": null,
      "metadata": {
        "id": "nDaZ3Dom2pY-"
      },
      "outputs": [],
      "source": [
        "# Extraer audio de un archivo de video\n",
        "zds.audio_from_video(f\"{base}/inputs/T0E0/T0E0-Close.mp4\")\n",
        "print(\"Audio extraido de los archivos de video.\")"
      ]
    },
    {
      "cell_type": "code",
      "execution_count": null,
      "metadata": {
        "colab": {
          "base_uri": "https://localhost:8080/"
        },
        "id": "pxlmnby42pZA",
        "outputId": "16470808-7263-480c-9f8f-152fee3404ed"
      },
      "outputs": [],
      "source": [
        "# Cortar el un archivo de audio\n",
        "audio, path = \\\n",
        "  zds.audio_cut(f\"{base}/inputs/T0E0/T0E0-Close.mp3\", start_time=\"00:01\", end_time=\"00:55\", \\\n",
        "    new_file_path=f\"{base}/outputs/T0E0-Close.mp3\", fade_in=1000, fade_out=0)\n",
        "print(f\"Audio cortado y guardado en {path}.\")"
      ]
    },
    {
      "cell_type": "code",
      "execution_count": null,
      "metadata": {
        "id": "XLRoFlPT2pZC",
        "outputId": "bffebc11-046b-4942-d5de-356eb18a0511"
      },
      "outputs": [],
      "source": [
        "# Unir dos archivos de audio\n",
        "episode = \"T0E0\"\n",
        "presentation_path = f\"{base}/inputs/{episode}/{episode}-Presentation.mp3\"\n",
        "presentation = AudioSegment.from_file(presentation_path)\n",
        "presentation = AudioSegment.silent(duration=2000) + presentation + AudioSegment.silent(duration=3000)\n",
        "FUTURE = AudioSegment.from_file(f\"{assets_folder}/Future.mp3\")\n",
        "\n",
        "# Poner música de fondo\n",
        "final_audio = zds.audio_overlay(audio=presentation, background=FUTURE, audio_volume=15,\n",
        "                  background_volume=-20, position=0, fade_in=2000, fade_out=4000\n",
        "                  )\n",
        "\n",
        "# Exportar el resultado\n",
        "output_path = f\"{base}/outputs/{episode}-Presentation2.mp3\"\n",
        "final_audio.export(output_path, format=\"mp3\")\n",
        "\n",
        "print(f\"Audio exportado correctamente en {output_path}\")"
      ]
    }
  ],
  "metadata": {
    "colab": {
      "provenance": []
    },
    "kernelspec": {
      "display_name": "hugging",
      "language": "python",
      "name": "python3"
    },
    "language_info": {
      "codemirror_mode": {
        "name": "ipython",
        "version": 3
      },
      "file_extension": ".py",
      "mimetype": "text/x-python",
      "name": "python",
      "nbconvert_exporter": "python",
      "pygments_lexer": "ipython3",
      "version": "3.10.15"
    }
  },
  "nbformat": 4,
  "nbformat_minor": 0
}
